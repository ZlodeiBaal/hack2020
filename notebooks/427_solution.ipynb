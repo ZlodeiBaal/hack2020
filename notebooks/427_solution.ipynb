{
 "cells": [
  {
   "cell_type": "markdown",
   "metadata": {},
   "source": [
    "### Custom libs to be installed:"
   ]
  },
  {
   "cell_type": "code",
   "execution_count": 1,
   "metadata": {},
   "outputs": [],
   "source": [
    "# !pip install rgf_python\n",
    "# !pip install xgboost\n",
    "# !pip install lightgbm"
   ]
  },
  {
   "cell_type": "code",
   "execution_count": null,
   "metadata": {},
   "outputs": [
    {
     "name": "stderr",
     "output_type": "stream",
     "text": [
      "/Users/elejke/anaconda3/lib/python3.7/site-packages/dask/config.py:161: YAMLLoadWarning: calling yaml.load() without Loader=... is deprecated, as the default Loader is unsafe. Please read https://msg.pyyaml.org/load for full details.\n",
      "  data = yaml.load(f.read()) or {}\n"
     ]
    }
   ],
   "source": [
    "import os\n",
    "import sys\n",
    "import glob\n",
    "import pathlib\n",
    "import numpy as np\n",
    "import pandas as pd\n",
    "\n",
    "from xgboost import XGBClassifier\n",
    "from lightgbm import LGBMClassifier\n",
    "from rgf.sklearn import RGFClassifier\n",
    "from sklearn.ensemble import RandomForestClassifier"
   ]
  },
  {
   "cell_type": "code",
   "execution_count": null,
   "metadata": {},
   "outputs": [],
   "source": [
    "sys.path.append(os.path.abspath('../src/'))\n",
    "    \n",
    "from data import prepare_submission\n",
    "from data import data_generator_test\n",
    "from data import data_generator_train\n",
    "\n",
    "from model_selection import cross_val_score\n",
    "\n",
    "from quality_estimator import BaseQualityEstimator"
   ]
  },
  {
   "cell_type": "markdown",
   "metadata": {},
   "source": [
    "## Data preparation:"
   ]
  },
  {
   "cell_type": "code",
   "execution_count": null,
   "metadata": {},
   "outputs": [],
   "source": []
  },
  {
   "cell_type": "code",
   "execution_count": null,
   "metadata": {},
   "outputs": [],
   "source": [
    "X, Xy, y = data_generator_train(root_dir=\"../data/ellipse/\")"
   ]
  },
  {
   "cell_type": "code",
   "execution_count": null,
   "metadata": {},
   "outputs": [],
   "source": [
    "X_test, Xy_test = data_generator_test(root_dir=\"../data/ellipse/\")"
   ]
  },
  {
   "cell_type": "markdown",
   "metadata": {},
   "source": [
    "## Algorithm initialization:"
   ]
  },
  {
   "cell_type": "code",
   "execution_count": null,
   "metadata": {},
   "outputs": [],
   "source": [
    "# a number of 1-st stage meta-learners:\n",
    "lgbm = LGBMClassifier(max_depth=2)\n",
    "rgf = RGFClassifier(max_leaf=400, algorithm=\"RGF_Sib\", test_interval=100, verbose=False)\n",
    "rf = RandomForestClassifier(n_estimators=100)\n",
    "xgb = XGBClassifier(max_depth=2, n_estimators=10)\n",
    "\n",
    "# QualityEstimator definition with metrics family names to be used for feature search:\n",
    "q_clf = BaseQualityEstimator(metrics=[\"dice_coefficient\", \"mae\", \"mse\"], \n",
    "                             unary_metrics=[],\n",
    "                             matching_metrics=[\n",
    "                                 \"match2tpr\",\n",
    "                                 \"match2predBinRate\",\n",
    "                                 \"match2gtBinRate\"\n",
    "                             ],\n",
    "                             meta_clfs={'lgbm': lgbm, \n",
    "                                        'rgf': rgf,\n",
    "                                        'rf': rf, \n",
    "                                        'xgb': xgb})"
   ]
  },
  {
   "cell_type": "markdown",
   "metadata": {},
   "source": [
    "# Algorithm fitting \n",
    "\n",
    "* 1-st stage metrics: generation in the search space\n",
    "* 2-nd stage metrics: aggregation for each generated metric in the search space\n",
    "* feature selection from the aggregated metrics\n",
    "* fitting of the 1-st level meta-estimators on the selected features\n",
    "* aggregation function optimization over predictions of the 1-st level meta-estimators"
   ]
  },
  {
   "cell_type": "code",
   "execution_count": null,
   "metadata": {
    "scrolled": false
   },
   "outputs": [],
   "source": [
    "q_clf.fit(X, Xy, y)"
   ]
  },
  {
   "cell_type": "code",
   "execution_count": null,
   "metadata": {},
   "outputs": [],
   "source": [
    "# predictions of the meta-classifier on test data:\n",
    "y_pred = q_clf.predict(X_test, Xy_test)"
   ]
  },
  {
   "cell_type": "code",
   "execution_count": null,
   "metadata": {},
   "outputs": [],
   "source": [
    "# example of automatically selected features:\n",
    "print(q_clf.selected_features['rf'])"
   ]
  },
  {
   "cell_type": "markdown",
   "metadata": {},
   "source": [
    "## Submission preparation:"
   ]
  },
  {
   "cell_type": "code",
   "execution_count": null,
   "metadata": {},
   "outputs": [],
   "source": [
    "root_dir = \"../data/decomposed/\"\n",
    "\n",
    "SecretPart_427 = prepare_submission(y_pred, root_dir)"
   ]
  },
  {
   "cell_type": "code",
   "execution_count": null,
   "metadata": {},
   "outputs": [],
   "source": [
    "SecretPart_427.head(3)"
   ]
  },
  {
   "cell_type": "code",
   "execution_count": null,
   "metadata": {},
   "outputs": [],
   "source": [
    "SecretPart_427.to_csv(\"../data/SecretPart_427.csv\", index=False)"
   ]
  },
  {
   "cell_type": "code",
   "execution_count": null,
   "metadata": {},
   "outputs": [],
   "source": []
  }
 ],
 "metadata": {
  "kernelspec": {
   "display_name": "Python 3",
   "language": "python",
   "name": "python3"
  },
  "language_info": {
   "codemirror_mode": {
    "name": "ipython",
    "version": 3
   },
   "file_extension": ".py",
   "mimetype": "text/x-python",
   "name": "python",
   "nbconvert_exporter": "python",
   "pygments_lexer": "ipython3",
   "version": "3.7.1"
  }
 },
 "nbformat": 4,
 "nbformat_minor": 4
}
