{
 "cells": [
  {
   "cell_type": "markdown",
   "metadata": {},
   "source": [
    "### Custom libs to be installed:"
   ]
  },
  {
   "cell_type": "code",
   "execution_count": 1,
   "metadata": {},
   "outputs": [],
   "source": [
    "# !pip install rgf_python\n",
    "# !pip install xgboost\n",
    "# !pip install lightgbm"
   ]
  },
  {
   "cell_type": "code",
   "execution_count": 2,
   "metadata": {},
   "outputs": [
    {
     "name": "stderr",
     "output_type": "stream",
     "text": [
      "/Users/elejke/anaconda3/lib/python3.7/site-packages/dask/config.py:161: YAMLLoadWarning: calling yaml.load() without Loader=... is deprecated, as the default Loader is unsafe. Please read https://msg.pyyaml.org/load for full details.\n",
      "  data = yaml.load(f.read()) or {}\n"
     ]
    }
   ],
   "source": [
    "import os\n",
    "import sys\n",
    "import glob\n",
    "import pathlib\n",
    "import numpy as np\n",
    "import pandas as pd\n",
    "\n",
    "from xgboost import XGBClassifier\n",
    "from lightgbm import LGBMClassifier\n",
    "from rgf.sklearn import RGFClassifier\n",
    "from sklearn.ensemble import RandomForestClassifier"
   ]
  },
  {
   "cell_type": "code",
   "execution_count": 3,
   "metadata": {},
   "outputs": [],
   "source": [
    "sys.path.append(os.path.abspath('../src/'))\n",
    "    \n",
    "from data import prepare_submission\n",
    "from data import data_generator_test\n",
    "from data import data_generator_train\n",
    "\n",
    "from model_selection import cross_val_score\n",
    "\n",
    "from quality_estimator import BaseQualityEstimator"
   ]
  },
  {
   "cell_type": "markdown",
   "metadata": {},
   "source": [
    "## Data preparation:"
   ]
  },
  {
   "cell_type": "code",
   "execution_count": null,
   "metadata": {},
   "outputs": [],
   "source": []
  },
  {
   "cell_type": "code",
   "execution_count": 4,
   "metadata": {},
   "outputs": [],
   "source": [
    "X, Xy, y = data_generator_train(root_dir=\"../data/ellipse/\")"
   ]
  },
  {
   "cell_type": "code",
   "execution_count": 5,
   "metadata": {},
   "outputs": [],
   "source": [
    "X_test, Xy_test = data_generator_test(root_dir=\"../data/ellipse/\")"
   ]
  },
  {
   "cell_type": "markdown",
   "metadata": {},
   "source": [
    "## Algorithm initialization:"
   ]
  },
  {
   "cell_type": "code",
   "execution_count": 6,
   "metadata": {},
   "outputs": [
    {
     "name": "stderr",
     "output_type": "stream",
     "text": [
      "/Users/elejke/anaconda3/lib/python3.7/site-packages/rgf/utils.py:225: UserWarning: Cannot find FastRGF executable files. FastRGF estimators will be unavailable for usage.\n",
      "  warnings.warn(\"Cannot find FastRGF executable files. \"\n"
     ]
    }
   ],
   "source": [
    "# a number of 1-st stage meta-learners:\n",
    "lgbm = LGBMClassifier(max_depth=2)\n",
    "rgf = RGFClassifier(max_leaf=400, algorithm=\"RGF_Sib\", test_interval=100, verbose=False)\n",
    "rf = RandomForestClassifier(n_estimators=100)\n",
    "xgb = XGBClassifier(max_depth=2, n_estimators=10)\n",
    "\n",
    "# QualityEstimator definition with metrics family names to be used for feature search:\n",
    "q_clf = BaseQualityEstimator(metrics=[\"dice_coefficient\", \"mae\", \"mse\"], \n",
    "                             unary_metrics=[],\n",
    "                             matching_metrics=[\n",
    "                                 \"match2tpr\",\n",
    "                                 \"match2predBinRate\",\n",
    "                                 \"match2gtBinRate\"\n",
    "                             ],\n",
    "                             meta_clfs={'lgbm': lgbm, \n",
    "                                        'rgf': rgf,\n",
    "                                        'rf': rf, \n",
    "                                        'xgb': xgb})"
   ]
  },
  {
   "cell_type": "markdown",
   "metadata": {},
   "source": [
    "# Algorithm fitting \n",
    "\n",
    "* 1-st stage metrics: generation in the search space\n",
    "* 2-nd stage metrics: aggregation for each generated metric in the search space\n",
    "* feature selection from the aggregated metrics\n",
    "* fitting of the 1-st level meta-estimators on the selected features\n",
    "* aggregation function optimization over predictions of the 1-st level meta-estimators"
   ]
  },
  {
   "cell_type": "code",
   "execution_count": 7,
   "metadata": {
    "scrolled": false
   },
   "outputs": [
    {
     "data": {
      "text/plain": [
       "BaseQualityEstimator(matching_metrics=['match2tpr', 'match2predBinRate',\n",
       "                                       'match2gtBinRate'],\n",
       "                     meta_clfs={'lgbm': LGBMClassifier(max_depth=2),\n",
       "                                'rf': RandomForestClassifier(),\n",
       "                                'rgf': RGFClassifier(algorithm='RGF_Sib',\n",
       "                                                     max_leaf=400,\n",
       "                                                     verbose=False),\n",
       "                                'xgb': XGBClassifier(base_score=0.5,\n",
       "                                                     booster='gbtree',\n",
       "                                                     colsample_bylevel=1,\n",
       "                                                     colsample_bynode=1,\n",
       "                                                     colsample_bytree=1,\n",
       "                                                     gamma=...\n",
       "                                                     interaction_constraints='',\n",
       "                                                     learning_rate=0.300000012,\n",
       "                                                     max_delta_step=0,\n",
       "                                                     max_depth=2,\n",
       "                                                     min_child_weight=1,\n",
       "                                                     missing=nan,\n",
       "                                                     monotone_constraints='()',\n",
       "                                                     n_estimators=10, n_jobs=0,\n",
       "                                                     num_parallel_tree=1,\n",
       "                                                     objective='multi:softprob',\n",
       "                                                     random_state=0,\n",
       "                                                     reg_alpha=0, reg_lambda=1,\n",
       "                                                     scale_pos_weight=None,\n",
       "                                                     subsample=1,\n",
       "                                                     tree_method='exact',\n",
       "                                                     validate_parameters=1,\n",
       "                                                     verbosity=None)},\n",
       "                     unary_metrics=[])"
      ]
     },
     "execution_count": 7,
     "metadata": {},
     "output_type": "execute_result"
    }
   ],
   "source": [
    "q_clf.fit(X, Xy, y)"
   ]
  },
  {
   "cell_type": "code",
   "execution_count": 8,
   "metadata": {},
   "outputs": [],
   "source": [
    "# predictions of the meta-classifier on test data:\n",
    "y_pred = q_clf.predict(X_test, Xy_test)"
   ]
  },
  {
   "cell_type": "code",
   "execution_count": 9,
   "metadata": {},
   "outputs": [
    {
     "name": "stdout",
     "output_type": "stream",
     "text": [
      "['dice_coefficient' 'match2gtBinRate_0.01_coverageCalculation_iou_0.02'\n",
      " 'match2gtBinRate_0.01_dice_score_iou_0.02'\n",
      " 'match2gtBinRate_0.01_iou_iou_0.02'\n",
      " 'match2gtBinRate_0.060000000000000005_coverageCalculation_iou_0.02'\n",
      " 'match2gtBinRate_0.060000000000000005_dice_score_iou_0.02'\n",
      " 'match2gtBinRate_0.060000000000000005_dice_score_iou_0.25'\n",
      " 'match2gtBinRate_0.060000000000000005_iou_iou_0.02'\n",
      " 'match2gtBinRate_0.060000000000000005_iou_iou_0.25'\n",
      " 'match2gtBinRate_0.11_coverageCalculation_iou_0.02'\n",
      " 'match2gtBinRate_0.11_coverageCalculation_iou_0.25'\n",
      " 'match2gtBinRate_0.11_dice_score_iou_0.02'\n",
      " 'match2gtBinRate_0.11_iou_iou_0.02' 'match2gtBinRate_0.11_iou_iou_0.25'\n",
      " 'match2gtBinRate_0.16000000000000003_coverageCalculation_iou_0.02'\n",
      " 'match2gtBinRate_0.16000000000000003_coverageCalculation_iou_0.25'\n",
      " 'match2gtBinRate_0.16000000000000003_dice_score_iou_0.02'\n",
      " 'match2gtBinRate_0.16000000000000003_iou_iou_0.02'\n",
      " 'match2gtBinRate_0.21000000000000002_coverageCalculation_iou_0.02'\n",
      " 'match2gtBinRate_0.21000000000000002_dice_score_iou_0.02'\n",
      " 'match2gtBinRate_0.21000000000000002_dice_score_iou_0.25'\n",
      " 'match2gtBinRate_0.21000000000000002_iou_iou_0.02'\n",
      " 'match2gtBinRate_0.26_coverageCalculation_iou_0.02'\n",
      " 'match2gtBinRate_0.26_dice_score_iou_0.02'\n",
      " 'match2gtBinRate_0.26_iou_iou_0.02'\n",
      " 'match2gtBinRate_0.31000000000000005_coverageCalculation_iou_0.02'\n",
      " 'match2gtBinRate_0.31000000000000005_dice_score_iou_0.02'\n",
      " 'match2gtBinRate_0.31000000000000005_dice_score_iou_0.25'\n",
      " 'match2gtBinRate_0.36000000000000004_coverageCalculation_iou_0.02'\n",
      " 'match2gtBinRate_0.36000000000000004_dice_score_iou_0.02'\n",
      " 'match2gtBinRate_0.41000000000000003_coverageCalculation_iou_0.02'\n",
      " 'match2gtBinRate_0.41000000000000003_coverageCalculation_iou_0.7'\n",
      " 'match2gtBinRate_0.41000000000000003_dice_score_iou_0.02'\n",
      " 'match2gtBinRate_0.41000000000000003_iou_iou_0.02'\n",
      " 'match2gtBinRate_0.41000000000000003_iou_iou_0.25'\n",
      " 'match2gtBinRate_0.46_coverageCalculation_iou_0.02'\n",
      " 'match2gtBinRate_0.46_coverageCalculation_iou_0.25'\n",
      " 'match2gtBinRate_0.46_dice_score_iou_0.02'\n",
      " 'match2gtBinRate_0.51_coverageCalculation_iou_0.02'\n",
      " 'match2gtBinRate_0.51_iou_iou_0.7'\n",
      " 'match2gtBinRate_0.56_coverageCalculation_iou_0.02'\n",
      " 'match2gtBinRate_0.56_coverageCalculation_iou_0.25'\n",
      " 'match2gtBinRate_0.56_dice_score_iou_0.02'\n",
      " 'match2gtBinRate_0.56_dice_score_iou_0.25'\n",
      " 'match2gtBinRate_0.56_iou_iou_0.25'\n",
      " 'match2gtBinRate_0.6100000000000001_coverageCalculation_iou_0.02'\n",
      " 'match2gtBinRate_0.6100000000000001_coverageCalculation_iou_0.25'\n",
      " 'match2gtBinRate_0.6100000000000001_coverageCalculation_iou_0.5'\n",
      " 'match2gtBinRate_0.6100000000000001_iou_iou_0.5'\n",
      " 'match2gtBinRate_0.66_coverageCalculation_iou_0.02'\n",
      " 'match2gtBinRate_0.66_coverageCalculation_iou_0.25'\n",
      " 'match2gtBinRate_0.66_coverageCalculation_iou_0.5'\n",
      " 'match2gtBinRate_0.66_iou_iou_0.25' 'match2gtBinRate_0.66_iou_iou_0.5'\n",
      " 'match2gtBinRate_0.66_iou_iou_0.7'\n",
      " 'match2predBinRate_0.01_coverageCalculation_iou_0.02'\n",
      " 'match2predBinRate_0.01_coverageCalculation_iou_0.25'\n",
      " 'match2predBinRate_0.01_dice_score_iou_0.02'\n",
      " 'match2predBinRate_0.01_dice_score_iou_0.25'\n",
      " 'match2predBinRate_0.01_iou_iou_0.02'\n",
      " 'match2predBinRate_0.01_iou_iou_0.7'\n",
      " 'match2predBinRate_0.060000000000000005_coverageCalculation_iou_0.02'\n",
      " 'match2predBinRate_0.060000000000000005_dice_score_iou_0.02'\n",
      " 'match2predBinRate_0.060000000000000005_iou_iou_0.02'\n",
      " 'match2predBinRate_0.11_coverageCalculation_iou_0.02'\n",
      " 'match2predBinRate_0.11_dice_score_iou_0.02'\n",
      " 'match2predBinRate_0.11_iou_iou_0.02'\n",
      " 'match2predBinRate_0.16000000000000003_coverageCalculation_iou_0.02'\n",
      " 'match2predBinRate_0.16000000000000003_dice_score_iou_0.02'\n",
      " 'match2predBinRate_0.16000000000000003_iou_iou_0.02'\n",
      " 'match2predBinRate_0.21000000000000002_coverageCalculation_iou_0.02'\n",
      " 'match2predBinRate_0.21000000000000002_dice_score_iou_0.02'\n",
      " 'match2predBinRate_0.21000000000000002_iou_iou_0.02'\n",
      " 'match2predBinRate_0.26_coverageCalculation_iou_0.02'\n",
      " 'match2predBinRate_0.26_dice_score_iou_0.02'\n",
      " 'match2predBinRate_0.26_iou_iou_0.02'\n",
      " 'match2predBinRate_0.31000000000000005_coverageCalculation_iou_0.02'\n",
      " 'match2predBinRate_0.31000000000000005_dice_score_iou_0.02'\n",
      " 'match2predBinRate_0.36000000000000004_coverageCalculation_iou_0.02'\n",
      " 'match2predBinRate_0.36000000000000004_dice_score_iou_0.02'\n",
      " 'match2predBinRate_0.41000000000000003_coverageCalculation_iou_0.02'\n",
      " 'match2predBinRate_0.41000000000000003_coverageCalculation_iou_0.25'\n",
      " 'match2predBinRate_0.41000000000000003_dice_score_iou_0.02'\n",
      " 'match2predBinRate_0.46_coverageCalculation_iou_0.02'\n",
      " 'match2predBinRate_0.46_coverageCalculation_iou_0.25'\n",
      " 'match2predBinRate_0.46_dice_score_iou_0.02'\n",
      " 'match2predBinRate_0.51_coverageCalculation_iou_0.02'\n",
      " 'match2predBinRate_0.51_dice_score_iou_0.25'\n",
      " 'match2predBinRate_0.56_coverageCalculation_iou_0.02'\n",
      " 'match2predBinRate_0.56_iou_iou_0.02'\n",
      " 'match2predBinRate_0.6100000000000001_coverageCalculation_iou_0.02'\n",
      " 'match2predBinRate_0.6100000000000001_dice_score_iou_0.02'\n",
      " 'match2predBinRate_0.6100000000000001_dice_score_iou_0.25'\n",
      " 'match2predBinRate_0.6100000000000001_iou_iou_0.25'\n",
      " 'match2predBinRate_0.66_coverageCalculation_iou_0.02'\n",
      " 'match2predBinRate_0.66_coverageCalculation_iou_0.25'\n",
      " 'match2predBinRate_0.66_coverageCalculation_iou_0.5' 'match2tpr_iou_0.02'\n",
      " 'match2tpr_iou_0.25' 'match2tpr_iou_0.5' 'match2tpr_iou_0.7']\n"
     ]
    }
   ],
   "source": [
    "# example of automatically selected features:\n",
    "print(q_clf.selected_features['rf'])"
   ]
  },
  {
   "cell_type": "markdown",
   "metadata": {},
   "source": [
    "## Submission preparation:"
   ]
  },
  {
   "cell_type": "code",
   "execution_count": 10,
   "metadata": {},
   "outputs": [],
   "source": [
    "root_dir = \"../data/decomposed/\"\n",
    "\n",
    "SecretPart_427 = prepare_submission(y_pred, root_dir)"
   ]
  },
  {
   "cell_type": "code",
   "execution_count": 11,
   "metadata": {},
   "outputs": [
    {
     "data": {
      "text/html": [
       "<div>\n",
       "<style scoped>\n",
       "    .dataframe tbody tr th:only-of-type {\n",
       "        vertical-align: middle;\n",
       "    }\n",
       "\n",
       "    .dataframe tbody tr th {\n",
       "        vertical-align: top;\n",
       "    }\n",
       "\n",
       "    .dataframe thead th {\n",
       "        text-align: right;\n",
       "    }\n",
       "</style>\n",
       "<table border=\"1\" class=\"dataframe\">\n",
       "  <thead>\n",
       "    <tr style=\"text-align: right;\">\n",
       "      <th></th>\n",
       "      <th>Case</th>\n",
       "      <th>Sample 1</th>\n",
       "      <th>Sample 2</th>\n",
       "      <th>Sample 3</th>\n",
       "    </tr>\n",
       "  </thead>\n",
       "  <tbody>\n",
       "    <tr>\n",
       "      <th>0</th>\n",
       "      <td>00011827_003.png</td>\n",
       "      <td>1.00</td>\n",
       "      <td>1.00</td>\n",
       "      <td>1.00</td>\n",
       "    </tr>\n",
       "    <tr>\n",
       "      <th>1</th>\n",
       "      <td>00011925_072.png</td>\n",
       "      <td>4.25</td>\n",
       "      <td>4.75</td>\n",
       "      <td>3.25</td>\n",
       "    </tr>\n",
       "    <tr>\n",
       "      <th>2</th>\n",
       "      <td>00012045_019.png</td>\n",
       "      <td>1.00</td>\n",
       "      <td>5.00</td>\n",
       "      <td>1.00</td>\n",
       "    </tr>\n",
       "  </tbody>\n",
       "</table>\n",
       "</div>"
      ],
      "text/plain": [
       "               Case  Sample 1  Sample 2  Sample 3\n",
       "0  00011827_003.png      1.00      1.00      1.00\n",
       "1  00011925_072.png      4.25      4.75      3.25\n",
       "2  00012045_019.png      1.00      5.00      1.00"
      ]
     },
     "execution_count": 11,
     "metadata": {},
     "output_type": "execute_result"
    }
   ],
   "source": [
    "SecretPart_427.head(3)"
   ]
  },
  {
   "cell_type": "code",
   "execution_count": null,
   "metadata": {},
   "outputs": [],
   "source": [
    "SecretPart_427.to_csv(\"../data/SecretPart_427.csv\", index=False)"
   ]
  },
  {
   "cell_type": "code",
   "execution_count": null,
   "metadata": {},
   "outputs": [],
   "source": []
  }
 ],
 "metadata": {
  "kernelspec": {
   "display_name": "Python 3",
   "language": "python",
   "name": "python3"
  },
  "language_info": {
   "codemirror_mode": {
    "name": "ipython",
    "version": 3
   },
   "file_extension": ".py",
   "mimetype": "text/x-python",
   "name": "python",
   "nbconvert_exporter": "python",
   "pygments_lexer": "ipython3",
   "version": "3.7.1"
  }
 },
 "nbformat": 4,
 "nbformat_minor": 4
}
