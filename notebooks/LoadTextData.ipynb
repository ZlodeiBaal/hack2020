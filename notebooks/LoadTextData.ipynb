{
 "cells": [
  {
   "cell_type": "code",
   "execution_count": 142,
   "metadata": {},
   "outputs": [],
   "source": [
    "import numpy as np \n",
    "import pandas as pd\n",
    "import math \n",
    "from PIL import Image, ImageDraw \n",
    "import matplotlib.pyplot as plt\n",
    "import matplotlib"
   ]
  },
  {
   "cell_type": "code",
   "execution_count": 143,
   "metadata": {},
   "outputs": [],
   "source": [
    "textData = pd.read_csv(\"../data/DX_TEST_RESULT_FULL.csv\")"
   ]
  },
  {
   "cell_type": "code",
   "execution_count": 144,
   "metadata": {},
   "outputs": [],
   "source": [
    "users = sorted(textData[' user_name'].unique())"
   ]
  },
  {
   "cell_type": "code",
   "execution_count": 155,
   "metadata": {},
   "outputs": [],
   "source": [
    "data = {}\n",
    "for k in users:\n",
    "    data[k]=[]\n",
    "\n",
    "cases_order = []    \n",
    "    \n",
    "for case in textData.file_name.unique():\n",
    "    for user in users:\n",
    "        subsample = textData[(textData.file_name == case) & (textData[' user_name'] == user)]\n",
    "        shape = matplotlib.image.imread(f'../data/sample_1/{case}.png').shape\n",
    "        \n",
    "        samples_list = []\n",
    "        for i, row in subsample.iterrows():\n",
    "            img = Image.new(\"RGB\", shape)\n",
    "            \n",
    "            img1 = ImageDraw.Draw(img)  \n",
    "            #if row[' shape'] == 'circle':\n",
    "            img1.ellipse([(row[' xcenter']-row[' rhorizontal'],\n",
    "                           row[' ycenter']-row[' rvertical']),\n",
    "                           (row[' xcenter']+row[' rhorizontal'],\n",
    "                           row[' ycenter']+row[' rvertical'])], fill =\"white\")\n",
    "            #else:\n",
    "            #img1.rectangle([(row[' xcenter']-row[' rhorizontal'],\n",
    "            #               row[' ycenter']-row[' rvertical']),\n",
    "            #               (row[' xcenter']+row[' rhorizontal'],\n",
    "            #               row[' ycenter']+row[' rvertical'])], fill =\"white\")\n",
    "            sample = np.asarray(img)[:,:,1]\n",
    "            samples_list.append(sample.astype(bool))\n",
    "        \n",
    "        if len(subsample) == 0:\n",
    "            samples_array = np.array([np.zeros(shape,dtype=bool)])\n",
    "        else:\n",
    "            samples_array = np.stack([sum(samples_list).astype(bool)]+ samples_list)\n",
    "        \n",
    "        data[user].append(samples_array)\n",
    "    cases_order.append(case)"
   ]
  },
  {
   "cell_type": "code",
   "execution_count": 156,
   "metadata": {},
   "outputs": [],
   "source": [
    "#saving\n",
    "for i in range(100):\n",
    "    np.save(f'../data/ellipse/after/{cases_order[i]}.npy',data['Expert'][i])\n",
    "    np.save(f'../data/ellipse/sample_1/{cases_order[i]}.npy',data['sample_1'][i])\n",
    "    np.save(f'../data/ellipse/sample_2/{cases_order[i]}.npy',data['sample_2'][i])\n",
    "    np.save(f'../data/ellipse/sample_3/{cases_order[i]}.npy',data['sample_3'][i])"
   ]
  },
  {
   "cell_type": "code",
   "execution_count": null,
   "metadata": {},
   "outputs": [],
   "source": []
  },
  {
   "cell_type": "code",
   "execution_count": 146,
   "metadata": {},
   "outputs": [],
   "source": [
    "n = np.argmax(tmp)"
   ]
  },
  {
   "cell_type": "code",
   "execution_count": 147,
   "metadata": {},
   "outputs": [],
   "source": [
    "img_bad = matplotlib.image.imread(f'../data/after/{cases_order[n]}.png')"
   ]
  },
  {
   "cell_type": "code",
   "execution_count": 148,
   "metadata": {},
   "outputs": [
    {
     "data": {
      "text/plain": [
       "1.0"
      ]
     },
     "execution_count": 148,
     "metadata": {},
     "output_type": "execute_result"
    }
   ],
   "source": [
    "img_bad.max()"
   ]
  },
  {
   "cell_type": "code",
   "execution_count": 154,
   "metadata": {},
   "outputs": [
    {
     "data": {
      "text/plain": [
       "<matplotlib.image.AxesImage at 0x7f917b368cd0>"
      ]
     },
     "execution_count": 154,
     "metadata": {},
     "output_type": "execute_result"
    },
    {
     "data": {
      "image/png": "[encoded data removed]",
      "text/plain": [
       "<Figure size 1008x1008 with 1 Axes>"
      ]
     },
     "metadata": {
      "needs_background": "light"
     },
     "output_type": "display_data"
    }
   ],
   "source": [
    "plt.figure(figsize=[14, 14])\n",
    "plt.imshow(data['Expert'][n][0] - img_bad)"
   ]
  },
  {
   "cell_type": "code",
   "execution_count": null,
   "metadata": {},
   "outputs": [],
   "source": []
  },
  {
   "cell_type": "code",
   "execution_count": null,
   "metadata": {},
   "outputs": [],
   "source": []
  },
  {
   "cell_type": "code",
   "execution_count": 141,
   "metadata": {},
   "outputs": [
    {
     "data": {
      "text/plain": [
       "(array([26.,  0.,  0.,  0.,  1.,  2.,  0.,  1.,  6.,  1.,  1.,  2.,  2.,\n",
       "         2.,  0.,  3.,  2.,  2.,  4.,  1.,  0.,  1.,  3.,  2.,  1.,  1.,\n",
       "         0.,  1.,  2.,  0.,  0.,  3.,  1.,  1.,  0.,  2.,  1.,  0.,  0.,\n",
       "         1.,  0.,  0.,  1.,  1.,  0.,  1.,  2.,  0.,  1.,  0.,  1.,  0.,\n",
       "         1.,  1.,  0.,  1.,  2.,  0.,  0.,  1.,  3.,  1.,  1.,  0.,  0.,\n",
       "         0.,  0.,  0.,  0.,  1.,  0.,  0.,  0.,  0.,  0.,  1.,  0.,  2.,\n",
       "         0.,  0.,  0.,  0.,  0.,  0.,  0.,  1.,  0.,  0.,  0.,  0.,  0.,\n",
       "         0.,  0.,  0.,  0.,  0.,  0.,  0.,  0.,  1.]),\n",
       " array([   0.  ,   32.32,   64.64,   96.96,  129.28,  161.6 ,  193.92,\n",
       "         226.24,  258.56,  290.88,  323.2 ,  355.52,  387.84,  420.16,\n",
       "         452.48,  484.8 ,  517.12,  549.44,  581.76,  614.08,  646.4 ,\n",
       "         678.72,  711.04,  743.36,  775.68,  808.  ,  840.32,  872.64,\n",
       "         904.96,  937.28,  969.6 , 1001.92, 1034.24, 1066.56, 1098.88,\n",
       "        1131.2 , 1163.52, 1195.84, 1228.16, 1260.48, 1292.8 , 1325.12,\n",
       "        1357.44, 1389.76, 1422.08, 1454.4 , 1486.72, 1519.04, 1551.36,\n",
       "        1583.68, 1616.  , 1648.32, 1680.64, 1712.96, 1745.28, 1777.6 ,\n",
       "        1809.92, 1842.24, 1874.56, 1906.88, 1939.2 , 1971.52, 2003.84,\n",
       "        2036.16, 2068.48, 2100.8 , 2133.12, 2165.44, 2197.76, 2230.08,\n",
       "        2262.4 , 2294.72, 2327.04, 2359.36, 2391.68, 2424.  , 2456.32,\n",
       "        2488.64, 2520.96, 2553.28, 2585.6 , 2617.92, 2650.24, 2682.56,\n",
       "        2714.88, 2747.2 , 2779.52, 2811.84, 2844.16, 2876.48, 2908.8 ,\n",
       "        2941.12, 2973.44, 3005.76, 3038.08, 3070.4 , 3102.72, 3135.04,\n",
       "        3167.36, 3199.68, 3232.  ]),\n",
       " <a list of 100 Patch objects>)"
      ]
     },
     "execution_count": 141,
     "metadata": {},
     "output_type": "execute_result"
    },
    {
     "data": {
      "image/png": "[encoded data removed]",
      "text/plain": [
       "<Figure size 432x288 with 1 Axes>"
      ]
     },
     "metadata": {
      "needs_background": "light"
     },
     "output_type": "display_data"
    }
   ],
   "source": [
    "tmp=[]\n",
    "for n in range(100):\n",
    "    tmp.append(np.sum(data['Expert'][n][0]^matplotlib.image.imread(f'../data/after/{cases_order[n]}.png').astype(bool)))\n",
    "plt.hist(tmp, bins=100)"
   ]
  },
  {
   "cell_type": "code",
   "execution_count": 23,
   "metadata": {},
   "outputs": [],
   "source": [
    "import math \n",
    "from PIL import Image, ImageDraw \n",
    "w, h = 220, 190\n",
    "shape = [(40, 40), (w - 10, h - 10)] \n",
    "  \n",
    "# creating new Image object \n",
    "img = Image.new(\"RGB\", (w, h)) \n",
    "  \n",
    "# create ellipse image \n",
    "img1 = ImageDraw.Draw(img)   \n",
    "img1.ellipse(shape, fill =\"white\") \n",
    "img.show() "
   ]
  },
  {
   "cell_type": "code",
   "execution_count": 31,
   "metadata": {},
   "outputs": [
    {
     "data": {
      "text/plain": [
       "<matplotlib.image.AxesImage at 0x7f927b436d10>"
      ]
     },
     "execution_count": 31,
     "metadata": {},
     "output_type": "execute_result"
    },
    {
     "data": {
      "image/png": "[encoded data removed]",
      "text/plain": [
       "<Figure size 432x288 with 1 Axes>"
      ]
     },
     "metadata": {
      "needs_background": "light"
     },
     "output_type": "display_data"
    }
   ],
   "source": [
    "plt.imshow(np.asarray(img))"
   ]
  },
  {
   "cell_type": "code",
   "execution_count": 54,
   "metadata": {},
   "outputs": [
    {
     "data": {
      "text/plain": [
       "array([2, 4, 6])"
      ]
     },
     "execution_count": 54,
     "metadata": {},
     "output_type": "execute_result"
    }
   ],
   "source": [
    "sum([np.array([1, 2, 3]), np.array([1, 2, 3])])"
   ]
  },
  {
   "cell_type": "code",
   "execution_count": 58,
   "metadata": {},
   "outputs": [
    {
     "data": {
      "text/plain": [
       "(1, 2)"
      ]
     },
     "execution_count": 58,
     "metadata": {},
     "output_type": "execute_result"
    }
   ],
   "source": [
    "(1, 2)+"
   ]
  },
  {
   "cell_type": "code",
   "execution_count": 61,
   "metadata": {},
   "outputs": [
    {
     "data": {
      "text/plain": [
       "['Expert', 'sample_1', 'sample_2', 'sample_3']"
      ]
     },
     "execution_count": 61,
     "metadata": {},
     "output_type": "execute_result"
    }
   ],
   "source": [
    "users"
   ]
  },
  {
   "cell_type": "code",
   "execution_count": 120,
   "metadata": {},
   "outputs": [
    {
     "data": {
      "text/html": [
       "<div>\n",
       "<style scoped>\n",
       "    .dataframe tbody tr th:only-of-type {\n",
       "        vertical-align: middle;\n",
       "    }\n",
       "\n",
       "    .dataframe tbody tr th {\n",
       "        vertical-align: top;\n",
       "    }\n",
       "\n",
       "    .dataframe thead th {\n",
       "        text-align: right;\n",
       "    }\n",
       "</style>\n",
       "<table border=\"1\" class=\"dataframe\">\n",
       "  <thead>\n",
       "    <tr style=\"text-align: right;\">\n",
       "      <th></th>\n",
       "      <th>file_name</th>\n",
       "      <th>user_name</th>\n",
       "      <th>xcenter</th>\n",
       "      <th>ycenter</th>\n",
       "      <th>rhorizontal</th>\n",
       "      <th>rvertical</th>\n",
       "      <th>shape</th>\n",
       "      <th>Unnamed: 7</th>\n",
       "    </tr>\n",
       "  </thead>\n",
       "  <tbody>\n",
       "    <tr>\n",
       "      <th>0</th>\n",
       "      <td>00000150_002</td>\n",
       "      <td>sample_2</td>\n",
       "      <td>737.882353</td>\n",
       "      <td>690.389140</td>\n",
       "      <td>64.482655</td>\n",
       "      <td>28.573152</td>\n",
       "      <td>rectangle</td>\n",
       "      <td>NaN</td>\n",
       "    </tr>\n",
       "    <tr>\n",
       "      <th>1</th>\n",
       "      <td>00000181_061</td>\n",
       "      <td>sample_2</td>\n",
       "      <td>317.007541</td>\n",
       "      <td>749.466063</td>\n",
       "      <td>133.984917</td>\n",
       "      <td>198.081448</td>\n",
       "      <td>rectangle</td>\n",
       "      <td>NaN</td>\n",
       "    </tr>\n",
       "    <tr>\n",
       "      <th>2</th>\n",
       "      <td>00000181_061</td>\n",
       "      <td>sample_2</td>\n",
       "      <td>731.318250</td>\n",
       "      <td>926.696833</td>\n",
       "      <td>152.132730</td>\n",
       "      <td>69.502262</td>\n",
       "      <td>rectangle</td>\n",
       "      <td>NaN</td>\n",
       "    </tr>\n",
       "    <tr>\n",
       "      <th>3</th>\n",
       "      <td>00000181_061</td>\n",
       "      <td>sample_2</td>\n",
       "      <td>714.714932</td>\n",
       "      <td>628.609351</td>\n",
       "      <td>129.351433</td>\n",
       "      <td>216.229261</td>\n",
       "      <td>rectangle</td>\n",
       "      <td>NaN</td>\n",
       "    </tr>\n",
       "    <tr>\n",
       "      <th>4</th>\n",
       "      <td>00000211_019</td>\n",
       "      <td>sample_2</td>\n",
       "      <td>360.639517</td>\n",
       "      <td>589.224736</td>\n",
       "      <td>105.025641</td>\n",
       "      <td>219.318250</td>\n",
       "      <td>rectangle</td>\n",
       "      <td>NaN</td>\n",
       "    </tr>\n",
       "    <tr>\n",
       "      <th>...</th>\n",
       "      <td>...</td>\n",
       "      <td>...</td>\n",
       "      <td>...</td>\n",
       "      <td>...</td>\n",
       "      <td>...</td>\n",
       "      <td>...</td>\n",
       "      <td>...</td>\n",
       "      <td>...</td>\n",
       "    </tr>\n",
       "    <tr>\n",
       "      <th>1062</th>\n",
       "      <td>00020000_000</td>\n",
       "      <td>sample_3</td>\n",
       "      <td>314.595556</td>\n",
       "      <td>146.526823</td>\n",
       "      <td>44.373333</td>\n",
       "      <td>14.222222</td>\n",
       "      <td>rectangle</td>\n",
       "      <td>NaN</td>\n",
       "    </tr>\n",
       "    <tr>\n",
       "      <th>1063</th>\n",
       "      <td>00020124_003</td>\n",
       "      <td>sample_3</td>\n",
       "      <td>414.720000</td>\n",
       "      <td>352.464601</td>\n",
       "      <td>53.475556</td>\n",
       "      <td>67.697778</td>\n",
       "      <td>rectangle</td>\n",
       "      <td>NaN</td>\n",
       "    </tr>\n",
       "    <tr>\n",
       "      <th>1064</th>\n",
       "      <td>00020124_003</td>\n",
       "      <td>sample_3</td>\n",
       "      <td>297.358229</td>\n",
       "      <td>632.225191</td>\n",
       "      <td>122.311111</td>\n",
       "      <td>51.768889</td>\n",
       "      <td>rectangle</td>\n",
       "      <td>NaN</td>\n",
       "    </tr>\n",
       "    <tr>\n",
       "      <th>1065</th>\n",
       "      <td>00020124_003</td>\n",
       "      <td>sample_3</td>\n",
       "      <td>414.720000</td>\n",
       "      <td>352.464601</td>\n",
       "      <td>53.475556</td>\n",
       "      <td>67.697778</td>\n",
       "      <td>rectangle</td>\n",
       "      <td>NaN</td>\n",
       "    </tr>\n",
       "    <tr>\n",
       "      <th>1066</th>\n",
       "      <td>00020124_003</td>\n",
       "      <td>sample_3</td>\n",
       "      <td>297.358229</td>\n",
       "      <td>632.225191</td>\n",
       "      <td>122.311111</td>\n",
       "      <td>51.768889</td>\n",
       "      <td>rectangle</td>\n",
       "      <td>NaN</td>\n",
       "    </tr>\n",
       "  </tbody>\n",
       "</table>\n",
       "<p>1067 rows × 8 columns</p>\n",
       "</div>"
      ],
      "text/plain": [
       "         file_name  user_name     xcenter     ycenter   rhorizontal  \\\n",
       "0     00000150_002   sample_2  737.882353  690.389140     64.482655   \n",
       "1     00000181_061   sample_2  317.007541  749.466063    133.984917   \n",
       "2     00000181_061   sample_2  731.318250  926.696833    152.132730   \n",
       "3     00000181_061   sample_2  714.714932  628.609351    129.351433   \n",
       "4     00000211_019   sample_2  360.639517  589.224736    105.025641   \n",
       "...            ...        ...         ...         ...           ...   \n",
       "1062  00020000_000   sample_3  314.595556  146.526823     44.373333   \n",
       "1063  00020124_003   sample_3  414.720000  352.464601     53.475556   \n",
       "1064  00020124_003   sample_3  297.358229  632.225191    122.311111   \n",
       "1065  00020124_003   sample_3  414.720000  352.464601     53.475556   \n",
       "1066  00020124_003   sample_3  297.358229  632.225191    122.311111   \n",
       "\n",
       "       rvertical      shape Unnamed: 7  \n",
       "0      28.573152  rectangle        NaN  \n",
       "1     198.081448  rectangle        NaN  \n",
       "2      69.502262  rectangle        NaN  \n",
       "3     216.229261  rectangle        NaN  \n",
       "4     219.318250  rectangle        NaN  \n",
       "...          ...        ...        ...  \n",
       "1062   14.222222  rectangle        NaN  \n",
       "1063   67.697778  rectangle        NaN  \n",
       "1064   51.768889  rectangle        NaN  \n",
       "1065   67.697778  rectangle        NaN  \n",
       "1066   51.768889  rectangle        NaN  \n",
       "\n",
       "[1067 rows x 8 columns]"
      ]
     },
     "execution_count": 120,
     "metadata": {},
     "output_type": "execute_result"
    }
   ],
   "source": [
    "textData"
   ]
  },
  {
   "cell_type": "code",
   "execution_count": 129,
   "metadata": {},
   "outputs": [
    {
     "data": {
      "text/plain": [
       "2"
      ]
     },
     "execution_count": 129,
     "metadata": {},
     "output_type": "execute_result"
    }
   ],
   "source": [
    "round(1.6)"
   ]
  },
  {
   "cell_type": "code",
   "execution_count": null,
   "metadata": {},
   "outputs": [],
   "source": []
  }
 ],
 "metadata": {
  "kernelspec": {
   "display_name": "Python 3",
   "language": "python",
   "name": "python3"
  },
  "language_info": {
   "codemirror_mode": {
    "name": "ipython",
    "version": 3
   },
   "file_extension": ".py",
   "mimetype": "text/x-python",
   "name": "python",
   "nbconvert_exporter": "python",
   "pygments_lexer": "ipython3",
   "version": "3.7.6"
  }
 },
 "nbformat": 4,
 "nbformat_minor": 4
}
