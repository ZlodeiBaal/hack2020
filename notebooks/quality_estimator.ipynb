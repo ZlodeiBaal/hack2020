{
 "cells": [
  {
   "cell_type": "code",
   "execution_count": 28,
   "metadata": {},
   "outputs": [],
   "source": [
    "# !pip install rgf_python"
   ]
  },
  {
   "cell_type": "code",
   "execution_count": 413,
   "metadata": {},
   "outputs": [],
   "source": [
    "import os\n",
    "import sys\n",
    "import glob\n",
    "import pathlib\n",
    "import numpy as np\n",
    "import pandas as pd\n",
    "\n",
    "from xgboost import XGBClassifier\n",
    "from lightgbm import LGBMClassifier\n",
    "from rgf.sklearn import RGFClassifier\n",
    "from sklearn.tree import DecisionTreeClassifier\n",
    "from sklearn.ensemble import RandomForestClassifier\n",
    "# from sklearn.ensemble import BaggingClassifier\n",
    "\n",
    "from sklearn.model_selection import train_test_split\n",
    "from sklearn.metrics import mean_absolute_error as MAE"
   ]
  },
  {
   "cell_type": "code",
   "execution_count": 414,
   "metadata": {},
   "outputs": [],
   "source": [
    "sys.path.append(os.path.abspath('../src/'))\n",
    "    \n",
    "from model_selection import cross_val_score\n",
    "\n",
    "from data import data_generator"
   ]
  },
  {
   "cell_type": "code",
   "execution_count": 415,
   "metadata": {},
   "outputs": [],
   "source": [
    "from quality_estimator import BaseQualityEstimator"
   ]
  },
  {
   "cell_type": "code",
   "execution_count": 416,
   "metadata": {},
   "outputs": [],
   "source": [
    "rgf = RGFClassifier(max_leaf=400,\n",
    "                    algorithm=\"RGF_Sib\",\n",
    "                    test_interval=100,\n",
    "                    verbose=False)"
   ]
  },
  {
   "cell_type": "code",
   "execution_count": null,
   "metadata": {},
   "outputs": [],
   "source": []
  },
  {
   "cell_type": "markdown",
   "metadata": {},
   "source": [
    "### Check metrics:"
   ]
  },
  {
   "cell_type": "code",
   "execution_count": 614,
   "metadata": {},
   "outputs": [],
   "source": [
    "X, Xy, y = data_generator(root_dir=\"../data/ellipse/\")"
   ]
  },
  {
   "cell_type": "code",
   "execution_count": 615,
   "metadata": {},
   "outputs": [],
   "source": [
    "q_clf = BaseQualityEstimator(metrics=[\"dice_coefficient\", \n",
    "                                      \"mae\", \"mse\", \n",
    "#                                       \"hausdorff_distance\", \n",
    "#                                       \"surface_distances\",\n",
    "#                                       \"assd\"\n",
    "                                     ], \n",
    "                             unary_metrics=[\"area\"],\n",
    "                             matching_metrics=[\n",
    "                                 \"match2tpr\",\n",
    "#                                  \"gt_match_aggregator\",\n",
    "#                                  \"pred_match_aggregator\",\n",
    "                                 \"match2predBinRate\",\n",
    "                                 \"match2gtBinRate\"\n",
    "                             ],\n",
    "                             meta_clf=LGBMClassifier(max_depth=2))"
   ]
  },
  {
   "cell_type": "code",
   "execution_count": 616,
   "metadata": {
    "scrolled": false
   },
   "outputs": [
    {
     "data": {
      "text/plain": [
       "BaseQualityEstimator(matching_metrics=['match2tpr', 'match2predBinRate',\n",
       "                                       'match2gtBinRate'],\n",
       "                     meta_clf=LGBMClassifier(max_depth=2))"
      ]
     },
     "execution_count": 616,
     "metadata": {},
     "output_type": "execute_result"
    }
   ],
   "source": [
    "q_clf.fit(X, Xy, y)"
   ]
  },
  {
   "cell_type": "code",
   "execution_count": 618,
   "metadata": {},
   "outputs": [],
   "source": [
    "X_meta = q_clf.X_metrics"
   ]
  },
  {
   "cell_type": "code",
   "execution_count": 619,
   "metadata": {},
   "outputs": [],
   "source": [
    "X_meta.columns = [c_ + \"_ellipse\" for c_ in X_meta.columns]"
   ]
  },
  {
   "cell_type": "code",
   "execution_count": 15,
   "metadata": {},
   "outputs": [],
   "source": [
    "# X_meta"
   ]
  },
  {
   "cell_type": "code",
   "execution_count": 527,
   "metadata": {},
   "outputs": [],
   "source": [
    "# X_meta.to_csv(\"../data/X_meta_rectangular_full.csv\", index=False)\n",
    "# X_meta_rect = pd.read_csv(\"../data/X_meta_rectangular_full.csv\").drop(columns=[\"area\"])"
   ]
  },
  {
   "cell_type": "code",
   "execution_count": 545,
   "metadata": {},
   "outputs": [],
   "source": [
    "X_meta = pd.read_csv(\"../data/X_meta_full.csv\")\n",
    "# X_meta_vovan = pd.read_csv(\"../data/X_meta_vovanminmin_full.csv\").drop(columns=[\"area\", \n",
    "#                                                                                 \"dice_coefficient\", \"match2tpr\"])\n",
    "\n",
    "# X_meta = pd.concat([X_meta_artem, X_meta_vovan], axis=1)"
   ]
  },
  {
   "cell_type": "code",
   "execution_count": 418,
   "metadata": {},
   "outputs": [],
   "source": [
    "from sklearn.model_selection import cross_val_predict"
   ]
  },
  {
   "cell_type": "code",
   "execution_count": 419,
   "metadata": {},
   "outputs": [],
   "source": [
    "# q_clf.X_metrics"
   ]
  },
  {
   "cell_type": "code",
   "execution_count": 420,
   "metadata": {},
   "outputs": [],
   "source": [
    "# !pip install xgboost"
   ]
  },
  {
   "cell_type": "code",
   "execution_count": 421,
   "metadata": {},
   "outputs": [],
   "source": [
    "# X_meta_rect"
   ]
  },
  {
   "cell_type": "code",
   "execution_count": 546,
   "metadata": {},
   "outputs": [],
   "source": [
    "X_meta_artem = pd.read_csv(\"../data/X_meta_full.csv\").drop(columns=[\"area\"])"
   ]
  },
  {
   "cell_type": "code",
   "execution_count": 547,
   "metadata": {},
   "outputs": [],
   "source": [
    "# X_meta_rect.columns = [c_ + \"_rect\" for c_ in X_meta_rect.columns]"
   ]
  },
  {
   "cell_type": "code",
   "execution_count": 548,
   "metadata": {},
   "outputs": [],
   "source": [
    "X_meta = pd.concat([X_meta_rect, X_meta_artem], axis=1)"
   ]
  },
  {
   "cell_type": "code",
   "execution_count": 549,
   "metadata": {},
   "outputs": [],
   "source": [
    "from sklearn.discriminant_analysis import LinearDiscriminantAnalysis"
   ]
  },
  {
   "cell_type": "code",
   "execution_count": 550,
   "metadata": {},
   "outputs": [],
   "source": [
    "# X_meta"
   ]
  },
  {
   "cell_type": "code",
   "execution_count": 551,
   "metadata": {},
   "outputs": [],
   "source": [
    "cv = 15"
   ]
  },
  {
   "cell_type": "code",
   "execution_count": 552,
   "metadata": {},
   "outputs": [],
   "source": [
    "from sklearn.model_selection import GroupKFold"
   ]
  },
  {
   "cell_type": "code",
   "execution_count": 553,
   "metadata": {},
   "outputs": [],
   "source": [
    "cv = GroupKFold(n_splits=cv)"
   ]
  },
  {
   "cell_type": "code",
   "execution_count": 554,
   "metadata": {},
   "outputs": [],
   "source": [
    "groups = list(range(len(y) // 3)) * 3"
   ]
  },
  {
   "cell_type": "code",
   "execution_count": 555,
   "metadata": {},
   "outputs": [],
   "source": [
    "# groups"
   ]
  },
  {
   "cell_type": "code",
   "execution_count": 556,
   "metadata": {},
   "outputs": [],
   "source": [
    "g = list(cv.split(X_meta, y, groups=groups))"
   ]
  },
  {
   "cell_type": "code",
   "execution_count": 557,
   "metadata": {},
   "outputs": [],
   "source": [
    "# vals_lda_rect"
   ]
  },
  {
   "cell_type": "code",
   "execution_count": 558,
   "metadata": {},
   "outputs": [],
   "source": [
    "vals_lgbm_rect = cross_val_predict(LGBMClassifier(max_depth=2), X_meta_rect, y, method='predict', cv=g)\n",
    "vals_rgf_rect = cross_val_predict(rgf, X_meta_rect, y, method='predict', cv=g)\n",
    "vals_rf_rect = cross_val_predict(RandomForestClassifier(n_estimators=100),\n",
    "                                 X_meta_rect.fillna(0), y, method='predict', cv=g)\n",
    "vals_xgb_rect = cross_val_predict(XGBClassifier(max_depth=3, n_estimators=10), \n",
    "                                  X_meta_rect, y, method='predict', cv=g)"
   ]
  },
  {
   "cell_type": "code",
   "execution_count": 559,
   "metadata": {},
   "outputs": [],
   "source": [
    "vals_lgbm = cross_val_predict(LGBMClassifier(max_depth=2), X_meta_artem, y, method='predict', cv=g)\n",
    "vals_rgf = cross_val_predict(rgf, X_meta_artem.fillna(0), y, method='predict', cv=g)\n",
    "vals_rf = cross_val_predict(RandomForestClassifier(n_estimators=100), \n",
    "                            X_meta_artem.fillna(0), y, method='predict', cv=g)\n",
    "vals_xgb = cross_val_predict(XGBClassifier(max_depth=3, n_estimators=10), \n",
    "                             X_meta_artem, y, method='predict', cv=g)"
   ]
  },
  {
   "cell_type": "code",
   "execution_count": 560,
   "metadata": {},
   "outputs": [],
   "source": [
    "# vals_aggregated = (vals_lgbm + vals_rf + vals_xgb + vals_rgf + vals_lgbm_rect + \n",
    "#                    vals_rf_rect + vals_xgb_rect + vals_rgf_rect) / 8\n",
    "\n",
    "# vals_aggregated = np.argmax(vals_aggregated, axis=1) + 1"
   ]
  },
  {
   "cell_type": "code",
   "execution_count": 561,
   "metadata": {},
   "outputs": [],
   "source": [
    "# X_meta_artem = pd.read_csv(\"../data/X_meta_hausdorff_distance.csv\")"
   ]
  },
  {
   "cell_type": "code",
   "execution_count": 562,
   "metadata": {},
   "outputs": [
    {
     "data": {
      "text/plain": [
       "array([1, 5, 5, 5, 4, 2, 2, 3, 2, 1, 4, 3, 5, 5, 4, 5, 1, 5, 4, 2, 3, 2,\n",
       "       3, 4, 4, 3, 5, 5, 5, 3, 4, 5, 3, 2, 4, 1, 2, 3, 2, 2, 2, 3, 3, 2,\n",
       "       4, 3, 5, 2, 5, 4, 3, 3, 5, 2, 4, 2, 1, 3, 3, 5, 5, 5, 5, 5, 3, 3,\n",
       "       5, 3, 3, 5, 3, 1, 4, 2, 5, 1, 1, 2, 4, 4, 5, 3, 5, 2, 2, 5, 5, 3,\n",
       "       5, 3, 1, 1, 3, 3, 4, 1, 1, 4, 2, 5, 2, 5, 3, 4, 5, 5, 5, 1, 3, 5,\n",
       "       1, 4, 5, 5, 4, 1, 2, 3, 3, 1, 1, 1, 3, 2, 3, 1, 5, 3, 2, 1, 2, 1,\n",
       "       4, 2, 3, 5, 1, 2, 2, 5, 4, 4, 5, 1, 3, 5, 5, 3, 3, 3, 2, 5, 3, 1,\n",
       "       3, 1, 1, 2, 2, 5, 2, 3, 5, 2, 3, 5, 2, 1, 1, 3, 3, 3, 5, 1, 2, 5,\n",
       "       1, 3, 2, 1])"
      ]
     },
     "execution_count": 562,
     "metadata": {},
     "output_type": "execute_result"
    }
   ],
   "source": [
    "vals_aggregated"
   ]
  },
  {
   "cell_type": "code",
   "execution_count": 563,
   "metadata": {},
   "outputs": [
    {
     "data": {
      "text/plain": [
       "array([1, 5, 5, 5, 4, 2, 3, 3, 2, 1, 4, 2, 5, 5, 4, 5, 1, 5, 4, 3, 4, 2,\n",
       "       3, 3, 4, 3, 5, 5, 5, 3, 3, 5, 3, 2, 4, 1, 2, 3, 2, 2, 2, 4, 3, 3,\n",
       "       4, 3, 5, 2, 5, 4, 2, 3, 5, 2, 4, 3, 1, 3, 3, 5, 5, 5, 5, 5, 4, 3,\n",
       "       5, 3, 3, 5, 3, 1, 4, 5, 5, 1, 1, 2, 4, 3, 5, 3, 5, 2, 2, 5, 5, 4,\n",
       "       5, 3, 1, 1, 3, 3, 4, 1, 1, 3, 2, 5, 2, 5, 3, 3, 5, 5, 5, 3, 3, 5,\n",
       "       1, 3, 5, 5, 4, 1, 3, 3, 3, 1, 1, 1, 3, 5, 3, 1, 5, 3, 3, 1, 2, 1,\n",
       "       4, 2, 3, 5, 1, 5, 3, 5, 4, 3, 5, 1, 3, 5, 5, 3, 3, 3, 2, 5, 3, 1,\n",
       "       3, 1, 1, 2, 2, 5, 2, 1, 5, 2, 4, 5, 2, 1, 1, 3, 3, 3, 5, 1, 2, 5,\n",
       "       1, 3, 2, 1])"
      ]
     },
     "execution_count": 563,
     "metadata": {},
     "output_type": "execute_result"
    }
   ],
   "source": [
    "vals_xgb"
   ]
  },
  {
   "cell_type": "code",
   "execution_count": 564,
   "metadata": {},
   "outputs": [
    {
     "data": {
      "text/plain": [
       "0.4888888888888889"
      ]
     },
     "execution_count": 564,
     "metadata": {},
     "output_type": "execute_result"
    }
   ],
   "source": [
    "MAE(y, (vals_lgbm_rect + vals_lgbm) / 2)"
   ]
  },
  {
   "cell_type": "code",
   "execution_count": 565,
   "metadata": {},
   "outputs": [
    {
     "data": {
      "text/plain": [
       "0.5222222222222223"
      ]
     },
     "execution_count": 565,
     "metadata": {},
     "output_type": "execute_result"
    }
   ],
   "source": [
    "MAE(y, (vals_lgbm_rect) / 1)"
   ]
  },
  {
   "cell_type": "code",
   "execution_count": 566,
   "metadata": {},
   "outputs": [
    {
     "data": {
      "text/plain": [
       "0.5111111111111111"
      ]
     },
     "execution_count": 566,
     "metadata": {},
     "output_type": "execute_result"
    }
   ],
   "source": [
    "MAE(y, (vals_lgbm) / 1)"
   ]
  },
  {
   "cell_type": "code",
   "execution_count": 567,
   "metadata": {},
   "outputs": [
    {
     "data": {
      "text/plain": [
       "0.5111111111111111"
      ]
     },
     "execution_count": 567,
     "metadata": {},
     "output_type": "execute_result"
    }
   ],
   "source": [
    "MAE(y, (vals_lgbm) / 1)"
   ]
  },
  {
   "cell_type": "code",
   "execution_count": 568,
   "metadata": {},
   "outputs": [
    {
     "data": {
      "text/plain": [
       "0.48055555555555557"
      ]
     },
     "execution_count": 568,
     "metadata": {},
     "output_type": "execute_result"
    }
   ],
   "source": [
    "MAE(y, (vals_lgbm + vals_rgf) / 2)"
   ]
  },
  {
   "cell_type": "code",
   "execution_count": 569,
   "metadata": {},
   "outputs": [
    {
     "data": {
      "text/plain": [
       "0.5"
      ]
     },
     "execution_count": 569,
     "metadata": {},
     "output_type": "execute_result"
    }
   ],
   "source": [
    "MAE(y, (vals_lgbm + vals_xgb + vals_rgf) / 3)"
   ]
  },
  {
   "cell_type": "code",
   "execution_count": 570,
   "metadata": {},
   "outputs": [],
   "source": [
    "vals_all = (vals_lgbm + vals_rf + vals_xgb + vals_rgf + vals_lgbm_rect + \n",
    "            vals_rf_rect + vals_xgb_rect + vals_rgf_rect) / 8"
   ]
  },
  {
   "cell_type": "code",
   "execution_count": 571,
   "metadata": {},
   "outputs": [
    {
     "data": {
      "text/plain": [
       "0.49375"
      ]
     },
     "execution_count": 571,
     "metadata": {},
     "output_type": "execute_result"
    }
   ],
   "source": [
    "MAE(y, vals_all)"
   ]
  },
  {
   "cell_type": "code",
   "execution_count": 572,
   "metadata": {},
   "outputs": [],
   "source": [
    "y_dummy = np.array([3 for i in range(len(y))])"
   ]
  },
  {
   "cell_type": "code",
   "execution_count": 573,
   "metadata": {},
   "outputs": [
    {
     "data": {
      "text/plain": [
       "1.1777777777777778"
      ]
     },
     "execution_count": 573,
     "metadata": {},
     "output_type": "execute_result"
    }
   ],
   "source": [
    "MAE(y, y_dummy)"
   ]
  },
  {
   "cell_type": "code",
   "execution_count": 612,
   "metadata": {},
   "outputs": [
    {
     "data": {
      "text/plain": [
       "array([1, 5, 4, 4, 3, 2, 2, 2, 3, 1, 3, 2, 5, 4, 4, 5, 1, 5, 4, 2, 5, 2,\n",
       "       3, 3, 3, 3, 5, 1, 4, 4, 4, 5, 5, 2, 4, 1, 3, 4, 2, 2, 3, 2, 2, 4,\n",
       "       5, 3, 5, 2, 5, 3, 3, 3, 4, 2, 4, 3, 1, 4, 4, 5, 5, 5, 4, 4, 5, 3,\n",
       "       5, 3, 3, 4, 2, 1, 3, 3, 4, 4, 1, 3, 4, 2, 5, 2, 5, 3, 2, 5, 5, 3,\n",
       "       5, 4, 1, 1, 5, 4, 3, 5, 1, 5, 4, 5, 2, 5, 2, 4, 5, 5, 5, 1, 3, 4,\n",
       "       1, 3, 4, 5, 5, 1, 3, 5, 4, 1, 1, 3, 3, 2, 2, 1, 5, 3, 3, 1, 3, 1,\n",
       "       3, 2, 3, 5, 1, 3, 2, 5, 5, 3, 5, 1, 2, 5, 5, 3, 3, 4, 4, 5, 4, 1,\n",
       "       2, 1, 1, 2, 2, 4, 2, 5, 1, 2, 3, 5, 2, 1, 1, 4, 3, 3, 5, 1, 2, 5,\n",
       "       1, 3, 3, 1])"
      ]
     },
     "execution_count": 612,
     "metadata": {},
     "output_type": "execute_result"
    }
   ],
   "source": [
    "y"
   ]
  },
  {
   "cell_type": "code",
   "execution_count": 613,
   "metadata": {},
   "outputs": [
    {
     "data": {
      "text/plain": [
       "array([1, 4, 4, 4, 4, 2, 2, 2, 2, 1, 4, 2, 5, 4, 4, 5, 1, 5, 4, 2, 3, 2,\n",
       "       3, 4, 4, 3, 5, 4, 5, 3, 3, 5, 3, 2, 4, 1, 2, 3, 2, 2, 2, 3, 3, 2,\n",
       "       4, 3, 5, 2, 5, 4, 2, 3, 4, 2, 4, 2, 1, 3, 3, 5, 5, 5, 4, 5, 3, 2,\n",
       "       4, 3, 2, 5, 3, 1, 4, 3, 4, 1, 1, 2, 3, 2, 5, 3, 5, 2, 2, 5, 5, 3,\n",
       "       5, 3, 1, 1, 3, 3, 4, 1, 1, 3, 2, 5, 2, 5, 3, 3, 4, 5, 5, 2, 3, 5,\n",
       "       1, 3, 4, 5, 4, 1, 2, 3, 3, 1, 1, 1, 3, 3, 3, 1, 5, 3, 2, 1, 2, 1,\n",
       "       3, 2, 3, 5, 1, 2, 2, 5, 4, 3, 5, 1, 3, 5, 5, 3, 3, 3, 2, 5, 3, 1,\n",
       "       2, 1, 1, 2, 2, 5, 2, 3, 4, 2, 3, 5, 2, 1, 1, 3, 3, 2, 5, 1, 2, 5,\n",
       "       1, 3, 2, 1])"
      ]
     },
     "execution_count": 613,
     "metadata": {},
     "output_type": "execute_result"
    }
   ],
   "source": [
    "vals_all.astype(int)"
   ]
  },
  {
   "cell_type": "code",
   "execution_count": null,
   "metadata": {},
   "outputs": [],
   "source": []
  },
  {
   "cell_type": "code",
   "execution_count": null,
   "metadata": {},
   "outputs": [],
   "source": []
  }
 ],
 "metadata": {
  "kernelspec": {
   "display_name": "Python 3",
   "language": "python",
   "name": "python3"
  },
  "language_info": {
   "codemirror_mode": {
    "name": "ipython",
    "version": 3
   },
   "file_extension": ".py",
   "mimetype": "text/x-python",
   "name": "python",
   "nbconvert_exporter": "python",
   "pygments_lexer": "ipython3",
   "version": "3.7.1"
  }
 },
 "nbformat": 4,
 "nbformat_minor": 4
}
